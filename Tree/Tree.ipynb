{
 "cells": [
  {
   "cell_type": "markdown",
   "id": "003d1fa4-3566-49d8-b52c-687ff244ab80",
   "metadata": {},
   "source": [
    "# Creating General Tree Format"
   ]
  },
  {
   "cell_type": "code",
   "execution_count": 1,
   "id": "9f9c6f09-c8ac-4790-960a-f1cb88ba7357",
   "metadata": {},
   "outputs": [
    {
     "name": "stdout",
     "output_type": "stream",
     "text": [
      "Drinks\n",
      " Cold\n",
      "  Cola\n",
      "  Fanta\n",
      " Hot\n",
      "  Tea\n",
      "  Coffee\n",
      "\n"
     ]
    }
   ],
   "source": [
    "class TreeNode:\n",
    "    def __init__(self, data, children = []):\n",
    "        self.data = data\n",
    "        self.children = children\n",
    "\n",
    "    def __str__(self, level=0):\n",
    "        ret = \" \" * level + str(self.data) + \"\\n\"\n",
    "        for child in self.children:\n",
    "            ret += child.__str__(level + 1)\n",
    "        return ret\n",
    "\n",
    "    def addChild(self, TreeNode):\n",
    "        self.children.append(TreeNode)\n",
    "\n",
    "tree = TreeNode('Drinks', [])\n",
    "cold = TreeNode('Cold', [])\n",
    "hot = TreeNode('Hot', [])\n",
    "\n",
    "tree.addChild(cold)\n",
    "tree.addChild(hot)\n",
    "\n",
    "tea = TreeNode('Tea', [])\n",
    "coffee = TreeNode('Coffee', [])\n",
    "cola = TreeNode('Cola', [])\n",
    "fanta = TreeNode('Fanta', [])\n",
    "\n",
    "cold.addChild(cola)\n",
    "cold.addChild(fanta)\n",
    "hot.addChild(tea)\n",
    "hot.addChild(coffee)\n",
    "\n",
    "print(tree)"
   ]
  },
  {
   "cell_type": "markdown",
   "id": "61df0a66-c91c-47f9-bf90-a2dc53ef9f89",
   "metadata": {},
   "source": [
    "# Creation Binary Tree using Linked List"
   ]
  },
  {
   "cell_type": "code",
   "execution_count": 32,
   "id": "ae7077a4-5edd-47ab-962a-d7bae11b9ca1",
   "metadata": {},
   "outputs": [],
   "source": [
    "class TreeNode:\n",
    "    def __init__(self, data):\n",
    "        self.data = data\n",
    "        self.leftChild = None\n",
    "        self.rightChild = None\n",
    "\n",
    "newT = TreeNode(\"Drinks\")\n",
    "\n",
    "leftChild = TreeNode(\"Hot\")\n",
    "tea = TreeNode(\"Tea\")\n",
    "coffee = TreeNode(\"Coffee\")\n",
    "leftChild.leftChild = tea\n",
    "leftChild.rightChild = coffee\n",
    "\n",
    "rightChild = TreeNode(\"Cold\")\n",
    "newT.leftChild = leftChild\n",
    "newT.rightChild = rightChild\n",
    "\n",
    "# TC - O(1)\n",
    "# SC - O(1)"
   ]
  },
  {
   "cell_type": "markdown",
   "id": "24003283-9d1e-4590-9508-76b6c4c63415",
   "metadata": {},
   "source": [
    "## Traversal Operation"
   ]
  },
  {
   "cell_type": "markdown",
   "id": "47173bf0-bcb2-41ea-8910-b8810a35f8c0",
   "metadata": {},
   "source": [
    "### PreOrder Traversal"
   ]
  },
  {
   "cell_type": "code",
   "execution_count": 28,
   "id": "6fc6490c-16f8-4ad5-b293-0e75d004f84d",
   "metadata": {},
   "outputs": [
    {
     "name": "stdout",
     "output_type": "stream",
     "text": [
      "Drinks\n",
      "Hot\n",
      "Tea\n",
      "Coffee\n",
      "Cold\n"
     ]
    }
   ],
   "source": [
    "def preOrderTraversal(rootNode):\n",
    "    if not rootNode:\n",
    "        return \n",
    "    print(rootNode.data)\n",
    "    preOrderTraversal(rootNode.leftChild)  #---> O(n/2)\n",
    "    preOrderTraversal(rootNode.rightChild) #---> O(n/2)\n",
    "\n",
    "preOrderTraversal(newT)\n",
    "\n",
    "# TC - O(n)\n",
    "# SC - O(n)"
   ]
  },
  {
   "cell_type": "markdown",
   "id": "e74586e2-d93c-40ef-a440-19429323f9a3",
   "metadata": {},
   "source": [
    "### InOrder Traversal"
   ]
  },
  {
   "cell_type": "code",
   "execution_count": 29,
   "id": "3fd7e998-81fb-469d-ac97-773130501783",
   "metadata": {},
   "outputs": [
    {
     "name": "stdout",
     "output_type": "stream",
     "text": [
      "Tea\n",
      "Hot\n",
      "Coffee\n",
      "Drinks\n",
      "Cold\n"
     ]
    }
   ],
   "source": [
    "def inOrderTraversal(rootNode):\n",
    "    if not rootNode:\n",
    "        return\n",
    "    inOrderTraversal(rootNode.leftChild)   #---> O(n/2)\n",
    "    print(rootNode.data)\n",
    "    inOrderTraversal(rootNode.rightChild)   #---> O(n/2)\n",
    "\n",
    "inOrderTraversal(newT)\n",
    "\n",
    "# TC - O(n)\n",
    "# SC - O(n)"
   ]
  },
  {
   "cell_type": "markdown",
   "id": "8065397d-8a1b-43b3-a38f-00f616550504",
   "metadata": {},
   "source": [
    "### PostOrder Traversal"
   ]
  },
  {
   "cell_type": "code",
   "execution_count": 34,
   "id": "2b038265-3762-4d8a-a23c-aee10f29dcf1",
   "metadata": {},
   "outputs": [
    {
     "name": "stdout",
     "output_type": "stream",
     "text": [
      "Tea\n",
      "Coffee\n",
      "Hot\n",
      "Cold\n",
      "Drinks\n"
     ]
    }
   ],
   "source": [
    "def postOrderTraversal(rootNode):\n",
    "    if not rootNode:\n",
    "        return\n",
    "    postOrderTraversal(rootNode.leftChild)   #---> O(n/2)\n",
    "    postOrderTraversal(rootNode.rightChild)   #---> O(n/2)\n",
    "    print(rootNode.data)\n",
    "\n",
    "postOrderTraversal(newT)\n",
    "\n",
    "# TC - O(n)\n",
    "# SC - O(n)"
   ]
  },
  {
   "cell_type": "code",
   "execution_count": null,
   "id": "fbd5048c-7f83-4c24-aa5e-58f37cf3ccb1",
   "metadata": {},
   "outputs": [],
   "source": []
  },
  {
   "cell_type": "code",
   "execution_count": null,
   "id": "db7a20af-6923-48f0-9f41-cadbf4a8fe07",
   "metadata": {},
   "outputs": [],
   "source": []
  }
 ],
 "metadata": {
  "kernelspec": {
   "display_name": "Python 3 (ipykernel)",
   "language": "python",
   "name": "python3"
  },
  "language_info": {
   "codemirror_mode": {
    "name": "ipython",
    "version": 3
   },
   "file_extension": ".py",
   "mimetype": "text/x-python",
   "name": "python",
   "nbconvert_exporter": "python",
   "pygments_lexer": "ipython3",
   "version": "3.12.2"
  }
 },
 "nbformat": 4,
 "nbformat_minor": 5
}
